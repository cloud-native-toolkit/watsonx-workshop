{
 "cells": [
  {
   "cell_type": "code",
   "execution_count": null,
   "metadata": {},
   "outputs": [],
   "source": [
    "# !pip install ibm-watson-machine-learning==1.0.311 \\\n",
    "# python-dotenv==1.0.0 \\\n",
    "# requests==2.31.0 \\\n",
    "# urllib3==1.26.11 \\\n",
    "# rouge==1.0.1 \\\n",
    "# scikit-learn==1.2.2 \\\n",
    "# sentence-transformers==2.2.2 \n",
    "\n",
    "# !pip install --upgrade \"ibm-watson>=7.0.0\"\n",
    "# !pip install text-extensions-for-pandas\n"
   ]
  },
  {
   "cell_type": "code",
   "execution_count": null,
   "metadata": {},
   "outputs": [],
   "source": [
    "import os\n",
    "from pathlib import Path\n",
    "from dotenv import load_dotenv\n",
    "\n",
    "from ibm_watson import DiscoveryV2\n",
    "from ibm_cloud_sdk_core.authenticators import IAMAuthenticator\n",
    "import text_extensions_for_pandas as tp\n",
    "import pandas as pd\n",
    "from dotenv import load_dotenv"
   ]
  },
  {
   "cell_type": "code",
   "execution_count": null,
   "metadata": {},
   "outputs": [],
   "source": [
    "import os\n",
    "os.environ['IBM_CLOUD_API_KEY'] = 'IBM_CLOUD_API_KEY'\n",
    "os.environ['WATSONX_AI_ENDPOINT'] = 'https://us-south.ml.cloud.ibm.com'\n",
    "os.environ['PROJECT_ID'] = '5a2ba826-ebd5-41fe-addc-1d8880d67ac7'\n",
    "\n",
    "os.environ['WD_API_KEY']='WD_API_KEY'\n",
    "os.environ['WD_ENDPOINT']='https://api.us-south.discovery.watson.cloud.ibm.com/instances/7978950c-ea5c-4ecb-9e74-1d4215917e6e'\n",
    "os.environ['WD_PROJECT_ID']='WD_PROJECT_ID'\n"
   ]
  },
  {
   "cell_type": "code",
   "execution_count": null,
   "metadata": {},
   "outputs": [],
   "source": [
    "discovery = None\n",
    "WD_VERSION = '2023-03-31'\n",
    "WD_PROJECT_ID = os.getenv(\"WD_PROJECT_ID\", None)\n",
    "WD_COLLECTION_ID = os.getenv(\"WD_COLLECTION_ID\", \"cc766481-368e-8358-0000-0181801be5b2\")"
   ]
  },
  {
   "cell_type": "code",
   "execution_count": null,
   "metadata": {},
   "outputs": [],
   "source": [
    "def init_wd():\n",
    "    WD_API_KEY = os.getenv(\"WD_API_KEY\", None)\n",
    "    WD_ENDPOINT = os.getenv(\"WD_ENDPOINT\", None)\n",
    "    if WD_API_KEY is None or WD_ENDPOINT is None:\n",
    "        print(\"Either api_key or api_url is None. Please make sure your credentials are correct.\")\n",
    "    \n",
    "    authenticator = IAMAuthenticator(WD_API_KEY)\n",
    "    global discovery\n",
    "    discovery = DiscoveryV2(\n",
    "        version=WD_VERSION,\n",
    "        authenticator=authenticator\n",
    "    )\n",
    "    return discovery"
   ]
  },
  {
   "cell_type": "code",
   "execution_count": null,
   "metadata": {},
   "outputs": [],
   "source": [
    "def query(payload: any):\n",
    "    global discovery\n",
    "    if(discovery is None):\n",
    "        discovery = init_wd()\n",
    "    discovery_results = discovery.query(\n",
    "        project_id = payload['project_id'],\n",
    "        count = payload['count'],\n",
    "        natural_language_query = payload['natural_language_query'],\n",
    "        filter = payload['filter'],\n",
    "        sort = payload['sort'],\n",
    "        collection_ids = payload['collection_ids'],\n",
    "        return_ = payload['return']\n",
    "    ).get_result()\n",
    "    \n",
    "    return discovery_results"
   ]
  },
  {
   "cell_type": "code",
   "execution_count": null,
   "metadata": {},
   "outputs": [],
   "source": [
    "payload = {\n",
    "    \"project_id\": \"02afa05d-6eb2-47ad-9b99-52fde0e8e029\",\n",
    "    \"count\": 5,\n",
    "    \"natural_language_query\": \"Is it energy efficient ?\",\n",
    "    \"filter\": \"product_number: 311996219,enriched_body.sentiment.label:positive\",\n",
    "    \"sort\": \"-enriched_body.sentiment.score\",\n",
    "    \"collection_ids\": [\"cc766481-368e-8358-0000-0181801be5b2\"],\n",
    "    \"return\": [\"product_number\", \"title\", \"body\", \"score\", \"enriched_body.sentiment\"]\n",
    "}\n",
    "discovery_results = query(payload)\n",
    "\n"
   ]
  },
  {
   "cell_type": "code",
   "execution_count": null,
   "metadata": {},
   "outputs": [],
   "source": [
    "import json\n",
    "\n",
    "if \"results\" in discovery_results and len(discovery_results['results']) > 0:\n",
    "    json_formatted_str = json.dumps(discovery_results['results'], indent=2)\n",
    "#     print(json_formatted_str)\n",
    "    for result in discovery_results['results']:\n",
    "        print(result['body'][0])\n",
    "    "
   ]
  }
 ],
 "metadata": {
  "language_info": {
   "name": "python"
  },
  "orig_nbformat": 4
 },
 "nbformat": 4,
 "nbformat_minor": 2
}
